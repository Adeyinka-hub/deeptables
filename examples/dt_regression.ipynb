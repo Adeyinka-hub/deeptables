{
 "cells": [
  {
   "cell_type": "code",
   "execution_count": 4,
   "metadata": {},
   "outputs": [],
   "source": [
    "from deeptables.models import deeptable,deepnets\n",
    "from sklearn.model_selection import train_test_split\n",
    "from sklearn import datasets\n",
    "import pandas as pd"
   ]
  },
  {
   "cell_type": "code",
   "execution_count": 5,
   "metadata": {
    "scrolled": true
   },
   "outputs": [
    {
     "name": "stdout",
     "output_type": "stream",
     "text": [
      "Target column type is float, so inferred as a [regression] task.\n",
      "Preparing features cost:0.009720087051391602\n",
      "Imputation cost:0.015986204147338867\n",
      "Categorical encoding cost:2.09808349609375e-05\n",
      "fit_transform cost:0.027783870697021484\n",
      "Injected a callback [EarlyStopping]. monitor:val_RootMeanSquaredError, patience:5, mode:min\n",
      ">>>>>>>>>>>>>>>>>>>>>> Model Desc <<<<<<<<<<<<<<<<<<<<<<< \n",
      "---------------------------------------------------------\n",
      "inputs:\n",
      "---------------------------------------------------------\n",
      "['all_categorical_vars: (0)', 'input_continuous_all: (13)']\n",
      "---------------------------------------------------------\n",
      "embeddings:\n",
      "---------------------------------------------------------\n",
      "input_dims: []\n",
      "output_dims: []\n",
      "dropout: 0.3\n",
      "---------------------------------------------------------\n",
      "dense: dropout: 0\n",
      "batch_normalization: False\n",
      "---------------------------------------------------------\n",
      "concat_embed_dense: shape: (None, 13)\n",
      "---------------------------------------------------------\n",
      "nets: ['dnn_nets']\n",
      "---------------------------------------------------------\n",
      "dnn: input_shape (None, 13), output_shape (None, 64)\n",
      "---------------------------------------------------------\n",
      "stacking_op: add\n",
      "---------------------------------------------------------\n",
      "output: activation: None, output_shape: (None, 1), use_bias: True\n",
      "loss: mse\n",
      "optimizer: Adam\n",
      "---------------------------------------------------------\n",
      "\n",
      "Train on 323 samples, validate on 81 samples\n",
      "Epoch 1/100\n",
      "323/323 [==============================] - 3s 9ms/sample - loss: 578.3381 - RootMeanSquaredError: 24.0487 - val_loss: 198.3409 - val_RootMeanSquaredError: 14.0834\n",
      "Epoch 2/100\n",
      "323/323 [==============================] - 0s 658us/sample - loss: 537.9996 - RootMeanSquaredError: 23.1948 - val_loss: 191.6849 - val_RootMeanSquaredError: 13.8450\n",
      "Epoch 3/100\n",
      "323/323 [==============================] - 0s 540us/sample - loss: 498.9788 - RootMeanSquaredError: 22.3378 - val_loss: 216.0600 - val_RootMeanSquaredError: 14.6990\n",
      "Epoch 4/100\n",
      "323/323 [==============================] - 0s 515us/sample - loss: 461.1652 - RootMeanSquaredError: 21.4748 - val_loss: 256.5518 - val_RootMeanSquaredError: 16.0172\n",
      "Epoch 5/100\n",
      "323/323 [==============================] - 0s 475us/sample - loss: 424.4252 - RootMeanSquaredError: 20.6016 - val_loss: 313.5483 - val_RootMeanSquaredError: 17.7073\n",
      "Epoch 6/100\n",
      "323/323 [==============================] - 0s 529us/sample - loss: 388.3658 - RootMeanSquaredError: 19.7070 - val_loss: 385.6458 - val_RootMeanSquaredError: 19.6379\n",
      "Epoch 7/100\n",
      "128/323 [==========>...................] - ETA: 0s - loss: 360.5941 - RootMeanSquaredError: 18.9893Restoring model weights from the end of the best epoch.\n",
      "323/323 [==============================] - 0s 571us/sample - loss: 351.7685 - RootMeanSquaredError: 18.7555 - val_loss: 463.6031 - val_RootMeanSquaredError: 21.5314\n",
      "Epoch 00007: early stopping\n",
      "Model has been saved to:dt_output/dt_20200316 160630_dnn_nets/dnn_nets.h5\n"
     ]
    }
   ],
   "source": [
    "boston_dataset = datasets.load_boston()\n",
    "\n",
    "df_train = pd.DataFrame(boston_dataset.data)\n",
    "df_train.columns = boston_dataset.feature_names\n",
    "y = pd.Series(boston_dataset.target)\n",
    "X = df_train\n",
    "\n",
    "conf = deeptable.ModelConfig(\n",
    "    metrics=['RootMeanSquaredError'], \n",
    "    nets=['dnn_nets'],\n",
    "    dnn_params={\n",
    "        'dnn_units': ((256, 0.3, True), (256, 0.3, True)),\n",
    "        'dnn_activation': 'relu',\n",
    "    },\n",
    "    earlystopping_patience=5,\n",
    ")\n",
    "\n",
    "dt = deeptable.DeepTable(config=conf)\n",
    "\n",
    "X_train, X_test, y_train, y_test = train_test_split(X, y, test_size=0.2, random_state=42)\n",
    "model, history = dt.fit(X_train, y_train, epochs=100)"
   ]
  },
  {
   "cell_type": "code",
   "execution_count": 6,
   "metadata": {},
   "outputs": [
    {
     "name": "stdout",
     "output_type": "stream",
     "text": [
      "transform_X cost:0.0035142898559570312\n",
      "transform_y cost:0.00018715858459472656\n",
      "{'loss': 235.2606201171875, 'RootMeanSquaredError': 15.338208}\n"
     ]
    }
   ],
   "source": [
    "result = dt.evaluate(X_test, y_test)\n",
    "print(result)"
   ]
  },
  {
   "cell_type": "code",
   "execution_count": 5,
   "metadata": {},
   "outputs": [
    {
     "name": "stdout",
     "output_type": "stream",
     "text": [
      "transform_X cost:0.004477977752685547\n",
      "predict_proba cost:0.4463977813720703\n"
     ]
    }
   ],
   "source": [
    "dt_preds = dt.predict_proba(X_test, batch_size=10)\n",
    "#dt_preds"
   ]
  },
  {
   "cell_type": "code",
   "execution_count": 6,
   "metadata": {},
   "outputs": [
    {
     "name": "stdout",
     "output_type": "stream",
     "text": [
      "The model performance for testing set\n",
      "--------------------------------------\n",
      "RMSE is 8.19979287394433\n",
      "R2 score is 0.08314285342957162\n"
     ]
    }
   ],
   "source": [
    "# root mean square error of the model\n",
    "rmse = (np.sqrt(mean_squared_error(y_test, dt_preds)))\n",
    "\n",
    "# r-squared score of the model\n",
    "r2 = r2_score(y_test, dt_preds)\n",
    "\n",
    "print(\"The model performance for testing set\")\n",
    "print(\"--------------------------------------\")\n",
    "print('RMSE is {}'.format(rmse))\n",
    "print('R2 score is {}'.format(r2))"
   ]
  }
 ],
 "metadata": {
  "kernelspec": {
   "display_name": "Python 3",
   "language": "python",
   "name": "python3"
  },
  "language_info": {
   "codemirror_mode": {
    "name": "ipython",
    "version": 3
   },
   "file_extension": ".py",
   "mimetype": "text/x-python",
   "name": "python",
   "nbconvert_exporter": "python",
   "pygments_lexer": "ipython3",
   "version": "3.7.5"
  }
 },
 "nbformat": 4,
 "nbformat_minor": 4
}
